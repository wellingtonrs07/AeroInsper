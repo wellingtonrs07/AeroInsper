{
 "cells": [
  {
   "cell_type": "markdown",
   "id": "0fc0c880",
   "metadata": {},
   "source": [
    "# Importando as bibliotecas necessárias"
   ]
  },
  {
   "cell_type": "code",
   "execution_count": 1,
   "id": "fe012964",
   "metadata": {},
   "outputs": [],
   "source": [
    "from math import*\n",
    "import numpy as np"
   ]
  },
  {
   "cell_type": "markdown",
   "id": "d47d7849",
   "metadata": {},
   "source": [
    "# Declarando as variáveis necessárias"
   ]
  },
  {
   "cell_type": "code",
   "execution_count": 2,
   "id": "cd21c56f",
   "metadata": {},
   "outputs": [],
   "source": [
    "m = 3 #número de nós\n",
    "n = 3 #número de elementos\n",
    "E = 210e9 #módulo de elasticidade(Constante)\n",
    "matriz_N = np.zeros([2,n]) #matriz dos nós\n",
    "matriz_C = np.zeros([n,m]) #matriz conectividade\n",
    "matriz_A = np.ones([m,1]) * 2e-4 #área da secção transversal (m²)\n",
    "matriz_F = np.zeros([2*n,1]) "
   ]
  },
  {
   "cell_type": "markdown",
   "id": "b1ac19e6",
   "metadata": {},
   "source": [
    "# Adicionando a medida de cada nó"
   ]
  },
  {
   "cell_type": "code",
   "execution_count": 3,
   "id": "c83e52fd",
   "metadata": {},
   "outputs": [],
   "source": [
    "matriz_N[0,:] = [0,0,0.3]\n",
    "matriz_N[1,:] = [0,0.4,0.4]"
   ]
  },
  {
   "cell_type": "markdown",
   "id": "5f72fb19",
   "metadata": {},
   "source": [
    "# Adicionando cada termo da conectividade \n",
    "\n",
    "### 0 = nó independente\n",
    "### 1 = nó final\n",
    "### -1 = nó inicial"
   ]
  },
  {
   "cell_type": "code",
   "execution_count": 4,
   "id": "2dbe4413",
   "metadata": {},
   "outputs": [],
   "source": [
    "matriz_C[0,0] = -1 \n",
    "matriz_C[1,0] = 1\n",
    "\n",
    "matriz_C[1,1] = -1\n",
    "matriz_C[2,1] = 1\n",
    "\n",
    "matriz_C[0,2] = -1\n",
    "matriz_C[2,2] = 1"
   ]
  },
  {
   "cell_type": "code",
   "execution_count": 5,
   "id": "6800d45f",
   "metadata": {},
   "outputs": [
    {
     "name": "stdout",
     "output_type": "stream",
     "text": [
      "[[0.  0.3 0.3]\n",
      " [0.4 0.  0.4]]\n"
     ]
    }
   ],
   "source": [
    "matriz_membros = matriz_N @ matriz_C #criação das matriz dos membros\n",
    "print(matriz_membros)"
   ]
  },
  {
   "cell_type": "markdown",
   "id": "b0670c64",
   "metadata": {},
   "source": [
    "# Formação de matriz_S"
   ]
  },
  {
   "cell_type": "code",
   "execution_count": 6,
   "id": "a4ed408b",
   "metadata": {},
   "outputs": [
    {
     "name": "stdout",
     "output_type": "stream",
     "text": [
      "[[0.00e+00 0.00e+00]\n",
      " [0.00e+00 1.05e+08]]\n",
      "[[1.4e+08 0.0e+00]\n",
      " [0.0e+00 0.0e+00]]\n",
      "[[30240000.         40320000.        ]\n",
      " [40320000.         53760000.00000001]]\n"
     ]
    }
   ],
   "source": [
    "lista_L = []\n",
    "lista_matriz_S = []\n",
    "    \n",
    "for i in range(m):\n",
    "    \n",
    "    L = np.linalg.norm(matriz_membros[:,i])\n",
    "    lista_L.append(L)\n",
    "    c = matriz_membros[:,i]\n",
    "    c.shape = [2,1]\n",
    "    matriz_S = ((E * matriz_A[i,0])/L) * ((c) @ (c.T)) / (L**2)\n",
    "    lista_matriz_S.append(matriz_S)\n",
    "    \n",
    "    print(matriz_S)"
   ]
  },
  {
   "cell_type": "markdown",
   "id": "3315ce57",
   "metadata": {},
   "source": [
    "# Formação matriz de rigidez global"
   ]
  },
  {
   "cell_type": "code",
   "execution_count": 7,
   "id": "ccea544c",
   "metadata": {},
   "outputs": [
    {
     "name": "stdout",
     "output_type": "stream",
     "text": [
      "[[ 3.0240e+07  4.0320e+07  0.0000e+00  0.0000e+00 -3.0240e+07 -4.0320e+07]\n",
      " [ 4.0320e+07  1.5876e+08  0.0000e+00 -1.0500e+08 -4.0320e+07 -5.3760e+07]\n",
      " [ 0.0000e+00  0.0000e+00  1.4000e+08  0.0000e+00 -1.4000e+08  0.0000e+00]\n",
      " [ 0.0000e+00 -1.0500e+08  0.0000e+00  1.0500e+08  0.0000e+00  0.0000e+00]\n",
      " [-3.0240e+07 -4.0320e+07 -1.4000e+08  0.0000e+00  1.7024e+08  4.0320e+07]\n",
      " [-4.0320e+07 -5.3760e+07  0.0000e+00  0.0000e+00  4.0320e+07  5.3760e+07]]\n"
     ]
    }
   ],
   "source": [
    "tamanho_S = len(matriz_S)\n",
    "tamanho_C = len(matriz_C)\n",
    "matriz_G = np.zeros([tamanho_S * tamanho_C,tamanho_S * tamanho_C])\n",
    "\n",
    "for j in range(m):\n",
    "\n",
    "    t = matriz_C[:,j]\n",
    "    t.shape = [3,1]\n",
    "    \n",
    "    K = np.kron(((t) @ (t.T)), lista_matriz_S[j])\n",
    "    matriz_G += K\n",
    "    \n",
    "print(matriz_G)\n",
    "\n",
    "determinante = np.linalg.det(matriz_G)"
   ]
  },
  {
   "cell_type": "code",
   "execution_count": 8,
   "id": "d36b25c7",
   "metadata": {},
   "outputs": [
    {
     "name": "stdout",
     "output_type": "stream",
     "text": [
      "\n",
      "Matriz G após a remoção das linhas e colunas correspondentes:\n",
      "[[ 1.5876e+08  0.0000e+00 -4.0320e+07]\n",
      " [ 0.0000e+00  1.4000e+08 -1.4000e+08]\n",
      " [-4.0320e+07 -1.4000e+08  1.7024e+08]]\n"
     ]
    }
   ],
   "source": [
    "import numpy as np\n",
    "\n",
    "# Definindo o vetor de constantes (F)\n",
    "R1X = None\n",
    "R1Y = 0\n",
    "\n",
    "R2X = None\n",
    "R2Y = None\n",
    "\n",
    "R3X = 150\n",
    "R3Y = -100\n",
    "\n",
    "F = np.array([R1X, R1Y, R2X, R2Y, R3X, R3Y])\n",
    "F.shape = (6, 1)\n",
    "# Definindo as matrizes A e B de exemplo\n",
    "\n",
    "# Encontrando índices onde A tem elementos None\n",
    "linhas_a, colunas_a = np.where(F == None)\n",
    "\n",
    "# Removendo as linhas e colunas correspondentes na matriz B\n",
    "for linha, coluna in zip(linhas_a, colunas_a):\n",
    "    matriz_G = np.delete(matriz_G, linha, axis=0)  # Removendo a linha\n",
    "    matriz_G = np.delete(matriz_G, linha, axis=1)  # Removendo a coluna\n",
    "\n",
    "print(\"\\nMatriz G após a remoção das linhas e colunas correspondentes:\")\n",
    "print(matriz_G)\n"
   ]
  },
  {
   "cell_type": "markdown",
   "id": "d83ec686",
   "metadata": {},
   "source": [
    "# Declarar vetor global de forças concentradas"
   ]
  },
  {
   "cell_type": "code",
   "execution_count": null,
   "id": "6a981389",
   "metadata": {
    "scrolled": true
   },
   "outputs": [],
   "source": [
    "# Resolvendo o sistema linear Ax = B\n",
    "linhas_f, colunas_f = np.where(F == None)\n",
    "for linha, coluna in zip(linhas_f, colunas_f):\n",
    "    F[linha, coluna] = np.nan\n",
    "    \n",
    "u = np.linalg.solve(matriz_G, F)\n",
    "\n",
    "print(\"\\nA solução do sistema é:\")\n",
    "print(u)\n"
   ]
  },
  {
   "cell_type": "code",
   "execution_count": null,
   "id": "bc04ab08",
   "metadata": {},
   "outputs": [],
   "source": []
  }
 ],
 "metadata": {
  "kernelspec": {
   "display_name": "Python 3 (ipykernel)",
   "language": "python",
   "name": "python3"
  },
  "language_info": {
   "codemirror_mode": {
    "name": "ipython",
    "version": 3
   },
   "file_extension": ".py",
   "mimetype": "text/x-python",
   "name": "python",
   "nbconvert_exporter": "python",
   "pygments_lexer": "ipython3",
   "version": "3.9.13"
  }
 },
 "nbformat": 4,
 "nbformat_minor": 5
}
