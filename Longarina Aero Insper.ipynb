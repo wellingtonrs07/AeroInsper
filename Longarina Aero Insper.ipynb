{
 "cells": [
  {
   "cell_type": "markdown",
   "id": "93e83d92",
   "metadata": {},
   "source": [
    " \n",
    "# Análise da longarina\n"
   ]
  },
  {
   "cell_type": "markdown",
   "id": "e76f3fe2",
   "metadata": {},
   "source": [
    "### Carga distribuida w(x):\n",
    "Se quadrada"
   ]
  },
  {
   "cell_type": "code",
   "execution_count": null,
   "id": "f878e295",
   "metadata": {},
   "outputs": [],
   "source": [
    "# Dimensões:\n",
    "m = 20  #kg\n",
    "L = 2  #comprimento da longarina\n",
    "\n",
    "# Hipóteses:\n",
    "g = 9.81  #m/s^2\n",
    "FC = 3.8"
   ]
  },
  {
   "cell_type": "code",
   "execution_count": null,
   "id": "3deab842",
   "metadata": {},
   "outputs": [],
   "source": [
    "F_sustentacao = m*g  # Força de sustentação:\n",
    "\n",
    "FC = 3.8  # Fator de carga\n",
    "\n",
    "w = 1/2*(F_sustentacao/L) * FC   #Carga distribuída\n",
    "\n",
    "n = 2  #iterações\n",
    "x\n",
    "F = 0\n",
    "dx = L/n\n",
    "\n",
    "\n",
    "for i in range(n):\n",
    "    F = F + dx\n",
    "    V = F\n",
    "    x_barra = \n",
    "    \n",
    "\n",
    "\n"
   ]
  }
 ],
 "metadata": {
  "kernelspec": {
   "display_name": "Python 3 (ipykernel)",
   "language": "python",
   "name": "python3"
  },
  "language_info": {
   "codemirror_mode": {
    "name": "ipython",
    "version": 3
   },
   "file_extension": ".py",
   "mimetype": "text/x-python",
   "name": "python",
   "nbconvert_exporter": "python",
   "pygments_lexer": "ipython3",
   "version": "3.9.12"
  }
 },
 "nbformat": 4,
 "nbformat_minor": 5
}
